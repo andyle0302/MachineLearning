{
  "nbformat": 4,
  "nbformat_minor": 0,
  "metadata": {
    "colab": {
      "name": "neuralNetwork-simple-keras.ipynb",
      "private_outputs": true,
      "provenance": [],
      "mount_file_id": "1q2aU-a0j5Q09Fpm7KMWMOxaOL5QuRke7",
      "authorship_tag": "ABX9TyNIJDKJMxNbJF173VG3qPVa",
      "include_colab_link": true
    },
    "kernelspec": {
      "name": "python3",
      "display_name": "Python 3"
    },
    "accelerator": "GPU"
  },
  "cells": [
    {
      "cell_type": "markdown",
      "metadata": {
        "id": "view-in-github",
        "colab_type": "text"
      },
      "source": [
        "<a href=\"https://colab.research.google.com/github/qtuter1997/MachineLearning/blob/main/d2l/neuralNetwork_simple_keras.ipynb\" target=\"_parent\"><img src=\"https://colab.research.google.com/assets/colab-badge.svg\" alt=\"Open In Colab\"/></a>"
      ]
    },
    {
      "cell_type": "code",
      "metadata": {
        "id": "V4lt5EYbEhoh"
      },
      "source": [
        "import numpy as np\r\n",
        "import pandas as pd\r\n",
        "import tensorflow as tf\r\n",
        "from tensorflow import keras\r\n",
        "import matplotlib.pyplot as plt\r\n",
        "import tensorflow_datasets\r\n",
        "\r\n",
        "\r\n",
        "print(tf.__version__)"
      ],
      "execution_count": null,
      "outputs": []
    },
    {
      "cell_type": "code",
      "metadata": {
        "id": "HDUl56ZggJYx"
      },
      "source": [
        "(x_train, y_train), (x_test, y_test) = tf.keras.datasets.fashion_mnist.load_data()"
      ],
      "execution_count": null,
      "outputs": []
    },
    {
      "cell_type": "code",
      "metadata": {
        "id": "AebP3bqDkHOg"
      },
      "source": [
        "x_train, x_test = x_train / 255.0 , x_test / 255.0\r\n",
        "x_train.shape"
      ],
      "execution_count": null,
      "outputs": []
    },
    {
      "cell_type": "code",
      "metadata": {
        "id": "Z0sX7E0YoyE5"
      },
      "source": [
        "y_train"
      ],
      "execution_count": null,
      "outputs": []
    },
    {
      "cell_type": "code",
      "metadata": {
        "id": "rV7YgrWZlE2W"
      },
      "source": [
        "plt.imshow(x_train[0])"
      ],
      "execution_count": null,
      "outputs": []
    },
    {
      "cell_type": "code",
      "metadata": {
        "id": "pmU1ejGAlTjp"
      },
      "source": [
        "min(y_train), max(y_train)"
      ],
      "execution_count": null,
      "outputs": []
    },
    {
      "cell_type": "code",
      "metadata": {
        "id": "WjU367lDldq2"
      },
      "source": [
        "labels = {0:'T-shirt/top', 1:'Trouser', 2:'Pullover', 3:'Dress', 4:'Coat', \r\n",
        "          5:'Sandal', 6:'Shirt', 7:'Sneaker', 8:'Bag', 9:'Ankle Boot'}\r\n",
        "labels"
      ],
      "execution_count": null,
      "outputs": []
    },
    {
      "cell_type": "code",
      "metadata": {
        "id": "KGv4sMHtnDx8"
      },
      "source": [
        "from tensorflow.keras import Sequential\r\n",
        "from tensorflow.keras.layers import Flatten, Dense"
      ],
      "execution_count": null,
      "outputs": []
    },
    {
      "cell_type": "code",
      "metadata": {
        "id": "CATm-v8AsgAB"
      },
      "source": [
        "model = Sequential()\r\n",
        "model.add(Flatten(input_shape=(28,28)))\r\n",
        "model.add(Dense(28, activation='relu'))\r\n",
        "model.add(Dense(10,activation='softmax'))\r\n",
        "model.summary()"
      ],
      "execution_count": null,
      "outputs": []
    },
    {
      "cell_type": "code",
      "metadata": {
        "id": "8xt7bcMytKYp"
      },
      "source": [
        "model.compile(optimizer='adam', loss='sparse_categorical_crossentropy', metrics='accuracy')\r\n",
        "model.fit(x_train, y_train, epochs=10)"
      ],
      "execution_count": null,
      "outputs": []
    },
    {
      "cell_type": "code",
      "metadata": {
        "id": "8OszJpB9t48p"
      },
      "source": [
        "from sklearn.metrics import accuracy_score"
      ],
      "execution_count": null,
      "outputs": []
    },
    {
      "cell_type": "code",
      "metadata": {
        "id": "_ejgGgtEuIhK"
      },
      "source": [
        "y_pred = np.argmax(model.predict(x_test), axis=1)\r\n",
        "accuracy_score(y_pred, y_test)"
      ],
      "execution_count": null,
      "outputs": []
    },
    {
      "cell_type": "code",
      "metadata": {
        "id": "e5a4rSUvud86"
      },
      "source": [
        "x_inference = x_test[20]\r\n",
        "\r\n",
        "plt.figure()\r\n",
        "plt.imshow(x_inference)\r\n",
        "plt.colorbar\r\n",
        "\r\n",
        "# x_inference"
      ],
      "execution_count": null,
      "outputs": []
    },
    {
      "cell_type": "code",
      "metadata": {
        "id": "H165j5fV2uUT"
      },
      "source": [
        "y_pre = np.argmax(model.predict(np.array([x_inference])),axis=1)\r\n",
        "y_pre"
      ],
      "execution_count": null,
      "outputs": []
    },
    {
      "cell_type": "code",
      "metadata": {
        "id": "SKi9BzdP3GWK"
      },
      "source": [
        "labels[y_pre[0]]"
      ],
      "execution_count": null,
      "outputs": []
    }
  ]
}