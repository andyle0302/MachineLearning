{
  "nbformat": 4,
  "nbformat_minor": 0,
  "metadata": {
    "colab": {
      "name": ".ipynb",
      "provenance": [],
      "mount_file_id": "1CtnSX1R5wGbDDWUYGTccMRVc6uAb5rAS",
      "authorship_tag": "ABX9TyN/fUIhppO553dMtasprb0g",
      "include_colab_link": true
    },
    "kernelspec": {
      "name": "python3",
      "display_name": "Python 3"
    }
  },
  "cells": [
    {
      "cell_type": "markdown",
      "metadata": {
        "id": "view-in-github",
        "colab_type": "text"
      },
      "source": [
        "<a href=\"https://colab.research.google.com/github/qtuter1997/MachineLearning/blob/main/d2l/Preliminaries/Data%20Manipulation.ipynb\" target=\"_parent\"><img src=\"https://colab.research.google.com/assets/colab-badge.svg\" alt=\"Open In Colab\"/></a>"
      ]
    },
    {
      "cell_type": "markdown",
      "metadata": {
        "id": "UtmG0p_ZtH4h"
      },
      "source": [
        "**Cheat sheet tensorflow 2.x**\r\n",
        "\r\n",
        "From d2l\r\n",
        "\r\n",
        "1.   Getting started\r\n",
        "2.   Operations\r\n",
        "3.   Broadcasting Machenism \r\n",
        "4.   Indexing and Slicing\r\n",
        "5.   Saving memory\r\n",
        "6.   Conversion to other Python Objects\r\n",
        "7.   Summary\r\n",
        "8.   Exercises\r\n",
        "\r\n",
        "\r\n",
        "\r\n"
      ]
    },
    {
      "cell_type": "code",
      "metadata": {
        "id": "fjm5qU_geVGw",
        "colab": {
          "base_uri": "https://localhost:8080/",
          "height": 35
        },
        "outputId": "485d4608-dbbc-499e-fdfc-a8dbe36ddde9"
      },
      "source": [
        "import numpy as np\r\n",
        "import tensorflow as tf\r\n",
        "\r\n",
        "tf.__version__"
      ],
      "execution_count": 6,
      "outputs": [
        {
          "output_type": "execute_result",
          "data": {
            "application/vnd.google.colaboratory.intrinsic+json": {
              "type": "string"
            },
            "text/plain": [
              "'2.4.1'"
            ]
          },
          "metadata": {
            "tags": []
          },
          "execution_count": 6
        }
      ]
    },
    {
      "cell_type": "code",
      "metadata": {
        "colab": {
          "base_uri": "https://localhost:8080/"
        },
        "id": "dbmErmH_A7vt",
        "outputId": "04053e83-5229-4c8e-fd9e-d22d880f9533"
      },
      "source": [
        "X = tf.constant([[1,9,3],[4,5,6]], dtype=float)\r\n",
        "X"
      ],
      "execution_count": 36,
      "outputs": [
        {
          "output_type": "execute_result",
          "data": {
            "text/plain": [
              "<tf.Tensor: shape=(2, 3), dtype=float32, numpy=\n",
              "array([[1., 9., 3.],\n",
              "       [4., 5., 6.]], dtype=float32)>"
            ]
          },
          "metadata": {
            "tags": []
          },
          "execution_count": 36
        }
      ]
    },
    {
      "cell_type": "code",
      "metadata": {
        "colab": {
          "base_uri": "https://localhost:8080/"
        },
        "id": "PjGXM0XSMRBs",
        "outputId": "519e15c5-77b2-4401-a02a-5ff54e758f71"
      },
      "source": [
        "tf.argmax(X, axis=0)"
      ],
      "execution_count": 39,
      "outputs": [
        {
          "output_type": "execute_result",
          "data": {
            "text/plain": [
              "<tf.Tensor: shape=(3,), dtype=int64, numpy=array([1, 0, 1])>"
            ]
          },
          "metadata": {
            "tags": []
          },
          "execution_count": 39
        }
      ]
    },
    {
      "cell_type": "code",
      "metadata": {
        "colab": {
          "base_uri": "https://localhost:8080/"
        },
        "id": "Bl1L2FClOMuW",
        "outputId": "fdb4e190-49ff-403e-98e5-048f7bb9b356"
      },
      "source": [
        "tf.reduce_max(X)"
      ],
      "execution_count": 33,
      "outputs": [
        {
          "output_type": "execute_result",
          "data": {
            "text/plain": [
              "<tf.Tensor: shape=(), dtype=float32, numpy=6.0>"
            ]
          },
          "metadata": {
            "tags": []
          },
          "execution_count": 33
        }
      ]
    },
    {
      "cell_type": "code",
      "metadata": {
        "colab": {
          "base_uri": "https://localhost:8080/"
        },
        "id": "DS6kSBUiOlpH",
        "outputId": "ae23c4f0-f11c-4bf1-f971-aabcf9894fb9"
      },
      "source": [
        "Y = tf.reshape(X,[3,2])\r\n",
        "Y"
      ],
      "execution_count": 40,
      "outputs": [
        {
          "output_type": "execute_result",
          "data": {
            "text/plain": [
              "<tf.Tensor: shape=(3, 2), dtype=float32, numpy=\n",
              "array([[1., 9.],\n",
              "       [3., 4.],\n",
              "       [5., 6.]], dtype=float32)>"
            ]
          },
          "metadata": {
            "tags": []
          },
          "execution_count": 40
        }
      ]
    },
    {
      "cell_type": "code",
      "metadata": {
        "colab": {
          "base_uri": "https://localhost:8080/"
        },
        "id": "iHA7BuvjfWPA",
        "outputId": "838bb512-de87-4edd-b472-ca46f7e826b5"
      },
      "source": [
        "tf.argmax(Y)"
      ],
      "execution_count": 41,
      "outputs": [
        {
          "output_type": "execute_result",
          "data": {
            "text/plain": [
              "<tf.Tensor: shape=(2,), dtype=int64, numpy=array([2, 0])>"
            ]
          },
          "metadata": {
            "tags": []
          },
          "execution_count": 41
        }
      ]
    },
    {
      "cell_type": "code",
      "metadata": {
        "colab": {
          "base_uri": "https://localhost:8080/"
        },
        "id": "Qb2s7IFVfZfi",
        "outputId": "8d0b0cdc-8ca2-46cf-987c-9a7b0e373325"
      },
      "source": [
        "Y.shape[1]"
      ],
      "execution_count": 43,
      "outputs": [
        {
          "output_type": "execute_result",
          "data": {
            "text/plain": [
              "2"
            ]
          },
          "metadata": {
            "tags": []
          },
          "execution_count": 43
        }
      ]
    },
    {
      "cell_type": "code",
      "metadata": {
        "id": "06cYOtRQf4bV"
      },
      "source": [
        ""
      ],
      "execution_count": null,
      "outputs": []
    }
  ]
}