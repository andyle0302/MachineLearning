{
  "nbformat": 4,
  "nbformat_minor": 0,
  "metadata": {
    "colab": {
      "name": "SoftmaxRegression.ipynb",
      "provenance": [],
      "collapsed_sections": [],
      "mount_file_id": "1_vccGRNCwBEb00cIBo73OQUPMPY-3QlA",
      "authorship_tag": "ABX9TyMPqnNm9Y+ejyjkPWI7nz2Y",
      "include_colab_link": true
    },
    "kernelspec": {
      "name": "python3",
      "display_name": "Python 3"
    },
    "accelerator": "GPU"
  },
  "cells": [
    {
      "cell_type": "markdown",
      "metadata": {
        "id": "view-in-github",
        "colab_type": "text"
      },
      "source": [
        "<a href=\"https://colab.research.google.com/github/qtuter1997/MachineLearning/blob/main/SupervisedLearning/NeuralNetwork/SoftmaxRegression.ipynb\" target=\"_parent\"><img src=\"https://colab.research.google.com/assets/colab-badge.svg\" alt=\"Open In Colab\"/></a>"
      ]
    },
    {
      "cell_type": "code",
      "metadata": {
        "colab": {
          "base_uri": "https://localhost:8080/"
        },
        "id": "vqJbEAl284-J",
        "outputId": "7db128b6-01d2-456e-b867-f3e6647581df"
      },
      "source": [
        "cd /content/drive/MyDrive/Colab Notebooks/MachineLearning/MachineLearning/SupervisedLearning/NeuralNetwork/SoftmaxRegression"
      ],
      "execution_count": 1,
      "outputs": [
        {
          "output_type": "stream",
          "text": [
            "/content/drive/MyDrive/Colab Notebooks/MachineLearning/MachineLearning/SupervisedLearning/NeuralNetwork/SoftmaxRegression\n"
          ],
          "name": "stdout"
        }
      ]
    },
    {
      "cell_type": "code",
      "metadata": {
        "colab": {
          "base_uri": "https://localhost:8080/"
        },
        "id": "RO_PnCeQ9Bfp",
        "outputId": "dddd8120-b633-4af4-c9e2-0663dcad73e1"
      },
      "source": [
        "ls"
      ],
      "execution_count": 2,
      "outputs": [
        {
          "output_type": "stream",
          "text": [
            "SoftmaxRegression.ipynb\n"
          ],
          "name": "stdout"
        }
      ]
    },
    {
      "cell_type": "markdown",
      "metadata": {
        "id": "UpjAmiOk9K_Y"
      },
      "source": [
        "**Softmax Regression - SR**\r\n",
        "\r\n",
        "\r\n",
        "\r\n",
        "---\r\n",
        "\r\n",
        "SR: Input is a vector and output is same vector dimension "
      ]
    },
    {
      "cell_type": "code",
      "metadata": {
        "id": "-EiGymnX2g3R"
      },
      "source": [
        "import numpy as np\r\n",
        "import matplotlib.pyplot as plt\r\n",
        "import pandas as pd\r\n",
        "from sklearn.metrics import accuracy_score\r\n",
        "from sklearn.linear_model import LogisticRegression \r\n",
        "from sklearn.model_selection import train_test_split\r\n",
        "from sklearn.metrics import accuracy_score\r\n",
        "from google.colab.patches import cv2_imshow\r\n",
        "from sklearn import preprocessing\r\n",
        "from sklearn import utils"
      ],
      "execution_count": 3,
      "outputs": []
    },
    {
      "cell_type": "code",
      "metadata": {
        "colab": {
          "base_uri": "https://localhost:8080/"
        },
        "id": "4kZ9xlSHJse2",
        "outputId": "feebda70-154a-420f-fb41-7e65968e110c"
      },
      "source": [
        "mnist_train = pd.read_csv('/content/sample_data/mnist_train_small.csv')\r\n",
        "mnist_test = pd.read_csv('/content/sample_data/mnist_test.csv')\r\n",
        "mnist_train.info()"
      ],
      "execution_count": 4,
      "outputs": [
        {
          "output_type": "stream",
          "text": [
            "<class 'pandas.core.frame.DataFrame'>\n",
            "RangeIndex: 19999 entries, 0 to 19998\n",
            "Columns: 785 entries, 6 to 0.590\n",
            "dtypes: int64(785)\n",
            "memory usage: 119.8 MB\n"
          ],
          "name": "stdout"
        }
      ]
    },
    {
      "cell_type": "code",
      "metadata": {
        "colab": {
          "base_uri": "https://localhost:8080/",
          "height": 265
        },
        "id": "h-mrXacMKBhI",
        "outputId": "e282d872-1d89-42b6-ef11-b390d414d1ba"
      },
      "source": [
        "img = np.array(mnist_train.iloc[100,1:])\r\n",
        "img = img.reshape(28,28)\r\n",
        "plt.imshow(img)\r\n",
        "plt.show()"
      ],
      "execution_count": 5,
      "outputs": [
        {
          "output_type": "display_data",
          "data": {
            "image/png": "[encoded data removed]",
            "text/plain": [
              "<Figure size 432x288 with 1 Axes>"
            ]
          },
          "metadata": {
            "tags": [],
            "needs_background": "light"
          }
        }
      ]
    },
    {
      "cell_type": "code",
      "metadata": {
        "id": "BLaFBVvAZRn9"
      },
      "source": [
        "X_train = np.array(mnist_train.iloc[:,1:])\r\n",
        "y_train = np.array(mnist_train.iloc[:,0])\r\n",
        "\r\n",
        "X_test = np.array(mnist_test.iloc[:,1:])\r\n",
        "y_test = np.array(mnist_test.iloc[:,0])\r\n",
        "\r\n",
        "#Normalizing\r\n",
        "X_train = X_train / 255\r\n",
        "y_train = y_train / 255\r\n",
        "\r\n",
        "X_test = X_test / 255\r\n",
        "y_test = y_test / 255\r\n",
        "\r\n",
        "lab_enc = preprocessing.LabelEncoder()\r\n",
        "y_train_enc = lab_enc.fit_transform(y_train)\r\n",
        "y_test_enc = lab_enc.fit_transform(y_test)"
      ],
      "execution_count": 8,
      "outputs": []
    },
    {
      "cell_type": "code",
      "metadata": {
        "colab": {
          "base_uri": "https://localhost:8080/"
        },
        "id": "1EbqkXoxc4JL",
        "outputId": "3aee63fc-4573-45f6-a6c7-4bb491083dc9"
      },
      "source": [
        "model = LogisticRegression(C = 1e5,\r\n",
        "        solver = 'lbfgs', multi_class = 'multinomial') # C is inverse of lam \r\n",
        "model.fit(X_train, y_train_enc)\r\n",
        "\r\n",
        "y_pred = model.predict(X_test)\r\n",
        "print(\"Accuracy %.2f %%\" % (100*accuracy_score(y_test_enc, y_pred.tolist())))"
      ],
      "execution_count": 11,
      "outputs": [
        {
          "output_type": "stream",
          "text": [
            "Accuracy 91.47 %\n"
          ],
          "name": "stdout"
        },
        {
          "output_type": "stream",
          "text": [
            "/usr/local/lib/python3.7/dist-packages/sklearn/linear_model/_logistic.py:940: ConvergenceWarning: lbfgs failed to converge (status=1):\n",
            "STOP: TOTAL NO. of ITERATIONS REACHED LIMIT.\n",
            "\n",
            "Increase the number of iterations (max_iter) or scale the data as shown in:\n",
            "    https://scikit-learn.org/stable/modules/preprocessing.html\n",
            "Please also refer to the documentation for alternative solver options:\n",
            "    https://scikit-learn.org/stable/modules/linear_model.html#logistic-regression\n",
            "  extra_warning_msg=_LOGISTIC_SOLVER_CONVERGENCE_MSG)\n"
          ],
          "name": "stderr"
        }
      ]
    },
    {
      "cell_type": "code",
      "metadata": {
        "id": "yXx5seWFdfuu"
      },
      "source": [
        ""
      ],
      "execution_count": null,
      "outputs": []
    }
  ]
}