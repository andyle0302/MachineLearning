{
  "nbformat": 4,
  "nbformat_minor": 0,
  "metadata": {
    "colab": {
      "name": "LRegresson.ipynb",
      "provenance": [],
      "authorship_tag": "ABX9TyMpHb1BjL1RZwP+kiA84pVB",
      "include_colab_link": true
    },
    "kernelspec": {
      "name": "python3",
      "display_name": "Python 3"
    }
  },
  "cells": [
    {
      "cell_type": "markdown",
      "metadata": {
        "id": "view-in-github",
        "colab_type": "text"
      },
      "source": [
        "<a href=\"https://colab.research.google.com/github/qtuter1997/MachineLearning/blob/main/SupervisedLearning/LogisticRegression/LRegresson.ipynb\" target=\"_parent\"><img src=\"https://colab.research.google.com/assets/colab-badge.svg\" alt=\"Open In Colab\"/></a>"
      ]
    },
    {
      "cell_type": "code",
      "metadata": {
        "id": "4NKi1hENkcyv"
      },
      "source": [
        "import numpy as np\r\n",
        "import matplotlib.pyplot as plt\r\n",
        "\r\n",
        "X = np.array([[0.50, 0.75, 1.00, 1.25, 1.50, 1.75, 1.75, 2.00, 2.25, 2.50, \r\n",
        "              2.75, 3.00, 3.25, 3.50, 4.00, 4.25, 4.50, 4.75, 5.00, 5.50]])\r\n",
        "y = np.array([0, 0, 0, 0, 0, 0, 1, 0, 1, 0, 1, 0, 1, 0, 1, 1, 1, 1, 1, 1])\r\n",
        "\r\n",
        "# extended data \r\n",
        "X = np.concatenate((np.ones((1, X.shape[1])), X), axis = 0)"
      ],
      "execution_count": 4,
      "outputs": []
    },
    {
      "cell_type": "code",
      "metadata": {
        "id": "DAhNlallku_P"
      },
      "source": [
        "def sigmoid(z):\r\n",
        "  return 1/(1 + np.exp(-z))\r\n",
        "\r\n",
        "def LogicsticRegression(X, y, w_init, eta, tol = 1e-4, max_count = 10000):\r\n",
        "  w = [w_init]\r\n",
        "  it = 0\r\n",
        "  N = X.shape[1]\r\n",
        "  d = X.shape[0]\r\n",
        "  count = 0\r\n",
        "  check_w_after = 20\r\n",
        "  while count < max_count:\r\n",
        "    # Mix data\r\n",
        "    mix_id = np.random.permutation(N)\r\n",
        "    for i in mix_id:\r\n",
        "      xi = X[:,i].reshape(d, 1)\r\n",
        "      yi = y[i]\r\n",
        "      zi = sigmoid(np.dot(w[-1].T,xi))\r\n",
        "      w_new = w[-1] + eta*(yi - zi)*xi\r\n",
        "      count += 1\r\n",
        "      # stopping criteria\r\n",
        "      if count % check_w_after == 0:\r\n",
        "        if np.linalg.norm(w_new - w[-check_w_after] < tol):\r\n",
        "          return w\r\n",
        "      w.append(w_new)"
      ],
      "execution_count": 9,
      "outputs": []
    },
    {
      "cell_type": "code",
      "metadata": {
        "id": "8lVAjv6DoDcn",
        "outputId": "40ac3437-bd2b-4dde-c031-baab975ef6db",
        "colab": {
          "base_uri": "https://localhost:8080/"
        }
      },
      "source": [
        "eta = 0.5\r\n",
        "d = X.shape[0]\r\n",
        "w_init = np.random.randn(d, 1)\r\n",
        "w = LogicsticRegression(X, y, w_init, eta)\r\n",
        "w[-1]"
      ],
      "execution_count": 13,
      "outputs": [
        {
          "output_type": "execute_result",
          "data": {
            "text/plain": [
              "array([[0.58486755],\n",
              "       [1.40537367]])"
            ]
          },
          "metadata": {
            "tags": []
          },
          "execution_count": 13
        }
      ]
    },
    {
      "cell_type": "code",
      "metadata": {
        "id": "jlearAMaooIH",
        "outputId": "063c1f53-ea92-4b5a-f70c-cc0c2fecd428",
        "colab": {
          "base_uri": "https://localhost:8080/"
        }
      },
      "source": [
        "print(sigmoid(np.dot(w[-1].T, X)))"
      ],
      "execution_count": 14,
      "outputs": [
        {
          "output_type": "stream",
          "text": [
            "[[0.78373296 0.83738491 0.87976866 0.912263   0.93660805 0.95453456\n",
            "  0.95453456 0.96756721 0.97695425 0.98367024 0.9884522  0.99184543\n",
            "  0.99424739 0.99594473 0.9979875  0.99858287 0.99900229 0.99929766\n",
            "  0.99950563 0.9997551 ]]\n"
          ],
          "name": "stdout"
        }
      ]
    },
    {
      "cell_type": "code",
      "metadata": {
        "id": "0EIX0WHMpcEf",
        "outputId": "5b0cb026-36bf-4607-ecab-f8f841acbcc5",
        "colab": {
          "base_uri": "https://localhost:8080/"
        }
      },
      "source": [
        "w"
      ],
      "execution_count": 16,
      "outputs": [
        {
          "output_type": "execute_result",
          "data": {
            "text/plain": [
              "[array([[1.78317409],\n",
              "        [0.74409785]]), array([[1.78670632],\n",
              "        [0.75910982]]), array([[1.31216309],\n",
              "        [0.04729497]]), array([[1.40066252],\n",
              "        [0.4676673 ]]), array([[ 0.92354267],\n",
              "        [-1.20225218]]), array([[ 0.80605241],\n",
              "        [-1.40786014]]), array([[ 0.74695661],\n",
              "        [-1.52605173]]), array([[ 0.72473694],\n",
              "        [-1.58160093]]), array([[ 0.61358272],\n",
              "        [-1.7205437 ]]), array([[1.11351099],\n",
              "        [1.02906182]]), array([[1.13923489],\n",
              "        [1.07407864]]), array([[1.14050547],\n",
              "        [1.07979626]]), array([[0.70276293],\n",
              "        [0.75148935]]), array([[ 0.22746086],\n",
              "        [-0.67441685]]), array([[0.61953251],\n",
              "        [0.20774437]]), array([[ 0.2716431 ],\n",
              "        [-0.14014505]]), array([[0.57447033],\n",
              "        [1.37399113]]), array([[0.580823  ],\n",
              "        [1.39146098]]), array([[0.58384367],\n",
              "        [1.40127814]]), array([[0.58486755],\n",
              "        [1.40537367]])]"
            ]
          },
          "metadata": {
            "tags": []
          },
          "execution_count": 16
        }
      ]
    },
    {
      "cell_type": "code",
      "metadata": {
        "id": "JeCUS1PbprCW"
      },
      "source": [
        ""
      ],
      "execution_count": null,
      "outputs": []
    }
  ]
}