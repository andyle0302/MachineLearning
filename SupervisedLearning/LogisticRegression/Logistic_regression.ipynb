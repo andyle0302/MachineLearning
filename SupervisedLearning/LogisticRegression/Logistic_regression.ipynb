{
  "nbformat": 4,
  "nbformat_minor": 0,
  "metadata": {
    "colab": {
      "name": "Logistic-regression.ipynb",
      "provenance": [],
      "mount_file_id": "1WPxd7-pA3TG99Of-VPQVEj0HJ5prsW9M",
      "authorship_tag": "ABX9TyM2SSDgTQMq6FjRpZBs0S/l",
      "include_colab_link": true
    },
    "kernelspec": {
      "name": "python3",
      "display_name": "Python 3"
    }
  },
  "cells": [
    {
      "cell_type": "markdown",
      "metadata": {
        "id": "view-in-github",
        "colab_type": "text"
      },
      "source": [
        "<a href=\"https://colab.research.google.com/github/qtuter1997/MachineLearning/blob/main/SupervisedLearning/LogisticRegression/Logistic_regression.ipynb\" target=\"_parent\"><img src=\"https://colab.research.google.com/assets/colab-badge.svg\" alt=\"Open In Colab\"/></a>"
      ]
    },
    {
      "cell_type": "markdown",
      "metadata": {
        "id": "Y3dD5aWIQW6h"
      },
      "source": [
        "Ex1"
      ]
    },
    {
      "cell_type": "code",
      "metadata": {
        "colab": {
          "base_uri": "https://localhost:8080/"
        },
        "id": "bqW7f0bYWcIS",
        "outputId": "9d077a06-e873-4b1d-a620-cae1e502cbc2"
      },
      "source": [
        "cd /content/drive/MyDrive/Colab Notebooks/MachineLearning/MachineLearning/Data/coursera-ml"
      ],
      "execution_count": null,
      "outputs": [
        {
          "output_type": "stream",
          "text": [
            "/content/drive/MyDrive/Colab Notebooks/MachineLearning/MachineLearning/Data/coursera-ml\n"
          ],
          "name": "stdout"
        }
      ]
    },
    {
      "cell_type": "code",
      "metadata": {
        "colab": {
          "base_uri": "https://localhost:8080/"
        },
        "id": "NaVD69ZFWmWE",
        "outputId": "a81746b3-961b-49bc-c71d-468aef7d53d8"
      },
      "source": [
        "!ls"
      ],
      "execution_count": null,
      "outputs": [
        {
          "output_type": "stream",
          "text": [
            "ex1data1.csv  ex1-multi.ipynb  ex2data2.csv  ex2-reg.ipynb\n",
            "ex1data2.csv  ex1.pdf\t       ex2.ipynb     ex7.pdf\n",
            "ex1.ipynb     ex2data1.csv     ex2.pdf\n"
          ],
          "name": "stdout"
        }
      ]
    },
    {
      "cell_type": "code",
      "metadata": {
        "id": "xmCxGxjXQN75"
      },
      "source": [
        "import os\r\n",
        "import pandas as pd\r\n",
        "import numpy as np\r\n",
        "import matplotlib.pyplot as plt\r\n",
        "from matplotlib import cm\r\n",
        "from matplotlib.ticker import LinearLocator, FormatStrFormatter"
      ],
      "execution_count": null,
      "outputs": []
    },
    {
      "cell_type": "code",
      "metadata": {
        "id": "xGn02DmMWaSm"
      },
      "source": [
        "DATA = './ex2data1.csv'\r\n",
        "ITERATIONS = 200000\r\n",
        "LR = 0.001"
      ],
      "execution_count": null,
      "outputs": []
    },
    {
      "cell_type": "code",
      "metadata": {
        "id": "Qv2STYLXeAiU"
      },
      "source": [
        "def sigmoid(z):\r\n",
        "  return 1.0 / (1.0 + np.exp(-z))\r\n",
        "\r\n",
        "def compute_cost(X,y,theta):\r\n",
        "  m = y.size\r\n",
        "  h = sigmoid(np.dot(X,theta))\r\n",
        "  J = - np.sum(y * np.log(h) + (1 - y) * np.log(1 - h)) / m\r\n",
        "  return J\r\n",
        "\r\n",
        "def gradient_descent(X, y, theta, Lr, num_inters):\r\n",
        "  m = y.size\r\n",
        "  jHistory = np.empty(num_inters)\r\n",
        "  for i in range(num_inters):\r\n",
        "    delta = np.dot(X.T, sigmoid(np.dot(X, theta)) - y) / m\r\n",
        "    theta -= Lr * delta\r\n",
        "    jHistory[i] = compute_cost(X, y, theta)\r\n",
        "  return theta, jHistory"
      ],
      "execution_count": null,
      "outputs": []
    },
    {
      "cell_type": "code",
      "metadata": {
        "colab": {
          "base_uri": "https://localhost:8080/",
          "height": 280
        },
        "id": "_Iuxvpmsu1ul",
        "outputId": "7a0ca0db-e960-4361-cbe4-9d217a960980"
      },
      "source": [
        "df = pd.read_csv(DATA)\r\n",
        "df_0 = df[df.y == 0]\r\n",
        "df_1 = df[df.y == 1]\r\n",
        "# plot data\r\n",
        "\r\n",
        "df_0.plot(x='x_1', y='x_2', legend=False, marker='o', style='o', mec='b', mfc='w')\r\n",
        "plt.plot(df_1.x_1, df_1.x_2, marker='x', linestyle='None', mec='r', mfc='w')\r\n",
        "plt.xlabel('x_1'); plt.ylabel('x_2'); plt.show()\r\n",
        "\r\n",
        "# extract X,y\r\n",
        "X = df.values[:, 0:2]\r\n",
        "y = df.values[:,2]\r\n",
        "m = y.size # number of training examples\r\n",
        "# add X_0 to X\r\n",
        "X = np.concatenate((np.ones((m,1)), X.reshape(-1,2)), axis=1)"
      ],
      "execution_count": null,
      "outputs": [
        {
          "output_type": "display_data",
          "data": {
            "image/png": "[encoded data removed]",
            "text/plain": [
              "<Figure size 432x288 with 1 Axes>"
            ]
          },
          "metadata": {
            "tags": [],
            "needs_background": "light"
          }
        }
      ]
    },
    {
      "cell_type": "code",
      "metadata": {
        "colab": {
          "base_uri": "https://localhost:8080/",
          "height": 296
        },
        "id": "zuh6tQ9Tx6Tm",
        "outputId": "859c2670-276b-495a-ee0b-14c34715becc"
      },
      "source": [
        "theta, jHistory = gradient_descent(X, y, np.zeros(X.shape[1]), LR, INTERATIONS)\r\n",
        "print(theta)\r\n",
        "# plot J\r\n",
        "plt.plot(range(jHistory.size), jHistory, color='g')\r\n",
        "plt.xlabel('n'); plt.ylabel('J'); plt.show()"
      ],
      "execution_count": null,
      "outputs": [
        {
          "output_type": "stream",
          "text": [
            "[-7.45017822  0.06550395  0.05898701]\n"
          ],
          "name": "stdout"
        },
        {
          "output_type": "display_data",
          "data": {
            "image/png": "[encoded data removed]",
            "text/plain": [
              "<Figure size 432x288 with 1 Axes>"
            ]
          },
          "metadata": {
            "tags": [],
            "needs_background": "light"
          }
        }
      ]
    },
    {
      "cell_type": "code",
      "metadata": {
        "colab": {
          "base_uri": "https://localhost:8080/",
          "height": 284
        },
        "id": "VGJ2gKkFG8DA",
        "outputId": "b458920d-84ce-4a01-858b-51f716876887"
      },
      "source": [
        "df_0.plot(x='x_1', y='x_2', legend=False, marker='o', style='o', mec='b', mfc='w')\r\n",
        "plt.plot(df_1.x_1, df_1.x_2, marker='x', linestyle='None', mec='r', mfc='w')\r\n",
        "\r\n",
        "# decision line\r\n",
        "x = np.linspace(30.0, 100.0, num=100)\r\n",
        "y = np.empty((100, 100))\r\n",
        "for i in range(100):\r\n",
        "    for j in range(100):\r\n",
        "        y[i][j] = sigmoid(np.dot(np.array([1.0, x[i], x[j]]).T, theta))\r\n",
        "plt.contour(x, x, y, levels=[0.0, 0.5])\r\n",
        "\r\n",
        "# predict for 3.5 and 7.0\r\n",
        "plt.xlabel('x_1'); plt.ylabel('x_2'); plt.show()"
      ],
      "execution_count": null,
      "outputs": [
        {
          "output_type": "display_data",
          "data": {
            "image/png": "[encoded data removed]",
            "text/plain": [
              "<Figure size 432x288 with 1 Axes>"
            ]
          },
          "metadata": {
            "tags": [],
            "needs_background": "light"
          }
        }
      ]
    },
    {
      "cell_type": "markdown",
      "metadata": {
        "id": "MHQRhXUwQOaB"
      },
      "source": [
        "Ex2"
      ]
    },
    {
      "cell_type": "code",
      "metadata": {
        "id": "hHjZFaUxWhSL"
      },
      "source": [
        "import numpy as np\r\n",
        "import matplotlib.pyplot as plt\r\n",
        "from sklearn.model_selection import train_test_split\r\n",
        "from sklearn.metrics import accuracy_score"
      ],
      "execution_count": null,
      "outputs": []
    }
  ]
}