{
  "nbformat": 4,
  "nbformat_minor": 0,
  "metadata": {
    "colab": {
      "name": "evaluation.ipynb",
      "provenance": [],
      "authorship_tag": "ABX9TyN9SRXhbKX/jnKe1hjYGCnu",
      "include_colab_link": true
    },
    "kernelspec": {
      "name": "python3",
      "display_name": "Python 3"
    }
  },
  "cells": [
    {
      "cell_type": "markdown",
      "metadata": {
        "id": "view-in-github",
        "colab_type": "text"
      },
      "source": [
        "<a href=\"https://colab.research.google.com/github/qtuter1997/MachineLearning/blob/main/EvaluationMethods/evaluation.ipynb\" target=\"_parent\"><img src=\"https://colab.research.google.com/assets/colab-badge.svg\" alt=\"Open In Colab\"/></a>"
      ]
    },
    {
      "cell_type": "code",
      "metadata": {
        "id": "yb0-pDwQ6-TE"
      },
      "source": [
        "# Evalua model use accuracy scores\r\n",
        "import numpy as np\r\n",
        "from sklearn.metrics import accuracy_score"
      ],
      "execution_count": 1,
      "outputs": []
    },
    {
      "cell_type": "markdown",
      "metadata": {
        "id": "klbqSbiwBEoa"
      },
      "source": [
        "**Accuracy scores**"
      ]
    },
    {
      "cell_type": "markdown",
      "metadata": {
        "id": "_hYW2QItd-R5"
      },
      "source": [
        "Cách đánh giá đơn giản này được tính dựa trên tỉ lệ của số điểm dự đoán đúng trên tổng số dữ liệu.\r\n",
        "```\r\n",
        "          (TP + TN)\r\n",
        "Acc =  ------------------ \r\n",
        "      (TP + TN + FP + FN)\r\n",
        "```"
      ]
    },
    {
      "cell_type": "code",
      "metadata": {
        "colab": {
          "base_uri": "https://localhost:8080/"
        },
        "id": "H3Waqw5k---R",
        "outputId": "6dba75b2-7fb0-40ff-8045-ea77aaa956f2"
      },
      "source": [
        "# Generate data\r\n",
        "y_true = np.array([0, 0, 0, 0, 1, 1, 1, 2, 2, 2])\r\n",
        "y_pred = np.array([0, 1, 0, 2, 1, 1, 0, 2, 1, 2])\r\n",
        "\r\n",
        "# Self - Compute\r\n",
        "def acc_score(y_tr, y_pr):\r\n",
        "  correct = np.sum(y_tr == y_pr)\r\n",
        "  return float(correct) / y_tr.shape[0]\r\n",
        "# Use lib\r\n",
        "print('seft: {} \\n lib: {}'.format(acc_score(y_true, y_pred), accuracy_score(y_true, y_pred)))"
      ],
      "execution_count": null,
      "outputs": [
        {
          "output_type": "stream",
          "text": [
            "seft: 0.6 \n",
            " lib: 0.6\n"
          ],
          "name": "stdout"
        }
      ]
    },
    {
      "cell_type": "markdown",
      "metadata": {
        "id": "0lvWLA1oBQHn"
      },
      "source": [
        "**Confusion matrix**"
      ]
    },
    {
      "cell_type": "markdown",
      "metadata": {
        "id": "aFE2Ib6hfTrg"
      },
      "source": [
        "**To do**\r\n",
        "\r\n",
        "```\r\n",
        " Total: 10 | Predicted | Predicted | Predicted |   \r\n",
        "           |    as: 0  |    as: 1  |    as: 2  |   \r\n",
        "-----------|-----------|-----------|-----------|---\r\n",
        " True: 0   |     2     |     1     |     1     | 4 \r\n",
        "-----------|-----------|-----------|-----------|---\r\n",
        " True: 1   |     1     |     2     |     0     | 3 \r\n",
        "-----------|-----------|-----------|-----------|---\r\n",
        " True: 2   |     0     |     1     |     2     | 3 \r\n",
        "-----------|-----------|-----------|-----------|---\r\n",
        "```"
      ]
    },
    {
      "cell_type": "code",
      "metadata": {
        "id": "4Cz_PP_EAiJQ"
      },
      "source": [
        "from sklearn.metrics import confusion_matrix\r\n",
        "\r\n",
        "def unnormalize_cf_matrix(y_tr, y_pr):\r\n",
        "  N = np.unique(y_tr).shape[0]\r\n",
        "  cm = np.zeros((N,N))\r\n",
        "  for n in range(y_tr.shape[0]):\r\n",
        "    cm[y_tr[n],y_pr[n]] +=1\r\n",
        "  return cm"
      ],
      "execution_count": null,
      "outputs": []
    },
    {
      "cell_type": "code",
      "metadata": {
        "colab": {
          "base_uri": "https://localhost:8080/"
        },
        "id": "h7oW6K5pKMOG",
        "outputId": "15b17ebd-09d2-443c-f2be-6733eba8d6be"
      },
      "source": [
        "conf_matrix = unnormalize_cf_matrix(y_true, y_pred)\r\n",
        "print(conf_matrix)\r\n",
        "print('Accuracy: {}'.format(np.diagonal(conf_matrix).sum() / conf_matrix.sum()))"
      ],
      "execution_count": null,
      "outputs": [
        {
          "output_type": "stream",
          "text": [
            "[[2. 1. 1.]\n",
            " [1. 2. 0.]\n",
            " [0. 1. 2.]]\n",
            "Accuracy: 0.6\n"
          ],
          "name": "stdout"
        }
      ]
    },
    {
      "cell_type": "markdown",
      "metadata": {
        "id": "IN0XvtgBeO-F"
      },
      "source": [
        "[[2. 1. 1.]        [4.\r\n",
        " [1. 2. 0.]   div   3.\r\n",
        " [0. 1. 2.]]        3.]"
      ]
    },
    {
      "cell_type": "code",
      "metadata": {
        "colab": {
          "base_uri": "https://localhost:8080/"
        },
        "id": "DD3es3TJQRm9",
        "outputId": "8a50f432-8fca-431d-f466-90165fdc04af"
      },
      "source": [
        "# Normalize confusion matrix\r\n",
        "normalize_conf_matrix = conf_matrix / conf_matrix.sum(axis = 1, keepdims= True)\r\n",
        "normalize_conf_matrix"
      ],
      "execution_count": null,
      "outputs": [
        {
          "output_type": "execute_result",
          "data": {
            "text/plain": [
              "array([[0.5       , 0.25      , 0.25      ],\n",
              "       [0.33333333, 0.66666667, 0.        ],\n",
              "       [0.        , 0.33333333, 0.66666667]])"
            ]
          },
          "metadata": {
            "tags": []
          },
          "execution_count": 43
        }
      ]
    },
    {
      "cell_type": "code",
      "metadata": {
        "colab": {
          "base_uri": "https://localhost:8080/"
        },
        "id": "lgECXLa2d-SK",
        "outputId": "06053ac8-ba65-4e0d-fee3-a107a931d1da"
      },
      "source": [
        "# Use lib sklearn\r\n",
        "conf_matrix_lib = confusion_matrix(y_true, y_pred)\r\n",
        "# conf_matrix_lib = conf_matrix_lib / conf_matrix_lib.sum(axis=1, keepdims=True)\r\n",
        "conf_matrix_lib"
      ],
      "execution_count": null,
      "outputs": [
        {
          "output_type": "execute_result",
          "data": {
            "text/plain": [
              "array([[2, 1, 1],\n",
              "       [1, 2, 0],\n",
              "       [0, 1, 2]])"
            ]
          },
          "metadata": {
            "tags": []
          },
          "execution_count": 51
        }
      ]
    },
    {
      "cell_type": "markdown",
      "metadata": {
        "id": "rzBAbrDbfX40"
      },
      "source": [
        "**Visualize confusion matrix**"
      ]
    },
    {
      "cell_type": "code",
      "metadata": {
        "id": "-ODedvm3e23T"
      },
      "source": [
        "import matplotlib.pyplot as plt\r\n",
        "import itertools\r\n",
        "\r\n",
        "def plot_cm(cm, classes, normalize = True, \r\n",
        "            title = \"Confusion matrix\", \r\n",
        "            cmap = plt.cm.Blues):\r\n",
        "  \"\"\"\r\n",
        "  This function plots the confusion matrix.\r\n",
        "  Normalizetion can be applied by setting 'normalize = True'.\r\n",
        "  \"\"\"\r\n",
        "  if normalize:\r\n",
        "    cm = cm.astype(float) / cm.sum(axis = 1, keepdims = True)\r\n",
        "  plt.imshow(cm, interpolation = 'nearest', cmap = cmap)\r\n",
        "  plt.title(title)\r\n",
        "  plt.colorbar()\r\n",
        "  tick_marks = np.arange(len(classes))\r\n",
        "  plt.xticks(tick_marks, classes)\r\n",
        "  plt.yticks(tick_marks, classes)\r\n",
        "\r\n",
        "  fmt = '.2f' if normalize else 'd'\r\n",
        "  print(fmt)\r\n",
        "  thresh = cm.max() / 2\r\n",
        "  for i,j in itertools.product(range(cm.shape[0]), range(cm.shape[1])):\r\n",
        "    plt.text(j, i, format(cm[i, j], fmt),\r\n",
        "                 horizontalalignment=\"center\",\r\n",
        "                 color=\"white\" if cm[i, j] > thresh else \"black\")\r\n",
        "  plt.tight_layout()\r\n",
        "  plt.xlabel('True label')\r\n",
        "  plt.ylabel('Predict label')"
      ],
      "execution_count": null,
      "outputs": []
    },
    {
      "cell_type": "code",
      "metadata": {
        "colab": {
          "base_uri": "https://localhost:8080/",
          "height": 328
        },
        "id": "gE-VnKFfhYTv",
        "outputId": "d0822e86-f554-4dbe-ec37-7cf8b0fe02f9"
      },
      "source": [
        "# Plot non-normalized confusion matrix\r\n",
        "class_names = [0, 1, 2]\r\n",
        "plt.figure()\r\n",
        "plot_cm(conf_matrix, classes=class_names,\r\n",
        "                      title='Confusion matrix, without normalization')\r\n",
        "\r\n",
        "\r\n",
        "plt.show()"
      ],
      "execution_count": null,
      "outputs": [
        {
          "output_type": "stream",
          "text": [
            ".2f\n"
          ],
          "name": "stdout"
        },
        {
          "output_type": "display_data",
          "data": {
            "image/png": "[encoded data removed]",
            "text/plain": [
              "<Figure size 432x288 with 2 Axes>"
            ]
          },
          "metadata": {
            "tags": [],
            "needs_background": "light"
          }
        }
      ]
    },
    {
      "cell_type": "markdown",
      "metadata": {
        "id": "45GYxKQwLbzK"
      },
      "source": [
        "Đối với các bài toán nhiều lớp dữ liệu, cách đánh giá này rất hữu ích để đánh \r\n",
        "giá mô hình. Các ô càng đậm càng thể hiện độ chính xác cao và điều này ngược lại đối với các ô màu nhạt. Khi đánh giá một mô hình qua Confusion matrix có tốt hay không thì dựa vào principal diagonal với các phần tử có giá trị lớn, các phần tử còn lại có giá trị nhỏ. Điều này tương ứng với việc khi biểu diển các màu sắc trên đường chéo chính sẽ đậm hơn phần còn lại (ô trên đường chéo chính có màu xanh đậm hơn), và để đánh giá chi tiết hơn ta nên normalized dữ liệu thì việc đánh giá mô hình sẽ rõ ràng hơn ở từng lớp dữ liệu\r\n",
        "\r\n",
        "\r\n",
        "\r\n",
        "\r\n",
        "\r\n",
        "\r\n",
        "\r\n"
      ]
    },
    {
      "cell_type": "markdown",
      "metadata": {
        "id": "EDs0ZMjYPYj9"
      },
      "source": [
        "**True/Fasle Positive/Negative**\r\n",
        "Thường áp dụng cho bài toán có 2 lớp dữ liệu. \r\n",
        "\r\n",
        "```\r\n",
        "                  |      Predicted      |      Predicted      |\r\n",
        "                  |     as Positive     |     as Negative     |\r\n",
        "------------------|---------------------|---------------------|\r\n",
        " Actual: Positive | True Positive (TP)  | False Negative (FN) |\r\n",
        "------------------|---------------------|---------------------|\r\n",
        " Actual: Negative | False Positive (FP) | True Negative (TN)  |\r\n",
        "------------------|---------------------|---------------------|\r\n",
        "\r\n",
        "```\r\n",
        "\r\n",
        "\r\n",
        "\r\n",
        "\r\n"
      ]
    },
    {
      "cell_type": "code",
      "metadata": {
        "id": "GBt58nj2QIVy"
      },
      "source": [
        "def TFPN()\r\n",
        "  pass"
      ],
      "execution_count": null,
      "outputs": []
    },
    {
      "cell_type": "markdown",
      "metadata": {
        "id": "EhRjrZ1XPmh-"
      },
      "source": [
        "**Receiver Operating Characteristic curve** & **Area Under the curve**\r\n",
        "\r\n"
      ]
    },
    {
      "cell_type": "markdown",
      "metadata": {
        "id": "enn6BWJQftfu"
      },
      "source": [
        "**To do**"
      ]
    },
    {
      "cell_type": "code",
      "metadata": {
        "id": "6O8SIXfMzjxy",
        "colab": {
          "base_uri": "https://localhost:8080/"
        },
        "outputId": "f184aafe-66c4-43ca-ba4a-7548486f53e8"
      },
      "source": [
        "# Visualize ROC curve with 2 classes\r\n",
        "# Positive : 30 data points, Negative: 20 data points\r\n",
        "\r\n",
        "# Generate data\r\n",
        "n0, n1 = 20, 30\r\n",
        "score0 = np.random.rand(n0) / 2\r\n",
        "label0 = np.zeros(n0, dtype = int)\r\n",
        "score1 = np.random.rand(n1) / 2 + .2\r\n",
        "label1 = np.ones(n1, dtype = int)\r\n",
        "score = np.concatenate((score0, score1))\r\n",
        "y_true = np.concatenate((label0, label1))\r\n",
        "print(score)\r\n",
        "print( y_true)"
      ],
      "execution_count": 8,
      "outputs": [
        {
          "output_type": "stream",
          "text": [
            "[0.42337683 0.12529076 0.17130525 0.46071112 0.34101399 0.3118255\n",
            " 0.37297438 0.31349368 0.17621239 0.25899377 0.33935651 0.41939496\n",
            " 0.2264519  0.34391103 0.43488405 0.10930977 0.04312468 0.26725879\n",
            " 0.18179228 0.39311122 0.21475565 0.66351084 0.39531099 0.24723094\n",
            " 0.39389493 0.44507284 0.57131747 0.27734303 0.36988077 0.32799865\n",
            " 0.494199   0.22039377 0.30400675 0.28093816 0.29019136 0.6703879\n",
            " 0.26500941 0.56059275 0.25288566 0.35022644 0.2607765  0.66306249\n",
            " 0.35968983 0.59681915 0.66359537 0.62729719 0.53727945 0.49674366\n",
            " 0.37230338 0.29545488]\n",
            "[0 0 0 0 0 0 0 0 0 0 0 0 0 0 0 0 0 0 0 0 1 1 1 1 1 1 1 1 1 1 1 1 1 1 1 1 1\n",
            " 1 1 1 1 1 1 1 1 1 1 1 1 1]\n"
          ],
          "name": "stdout"
        }
      ]
    },
    {
      "cell_type": "code",
      "metadata": {
        "colab": {
          "base_uri": "https://localhost:8080/"
        },
        "id": "o9RXBAVejXBQ",
        "outputId": "6f791eb0-1876-464f-b3f1-ae1a4f059ba2"
      },
      "source": [
        "from sklearn.metrics import roc_curve, auc\r\n",
        "\r\n",
        "fpr, tpr, thresold = roc_curve(y_true, score, pos_label = 1)\r\n",
        "print('Thresold: ', thresold)"
      ],
      "execution_count": 11,
      "outputs": [
        {
          "output_type": "stream",
          "text": [
            "Thresold:  [1.6703879  0.6703879  0.494199   0.46071112 0.44507284 0.41939496\n",
            " 0.39389493 0.37297438 0.35022644 0.33935651 0.32799865 0.3118255\n",
            " 0.27734303 0.26725879 0.2607765  0.25899377 0.24723094 0.2264519\n",
            " 0.21475565 0.04312468]\n"
          ],
          "name": "stdout"
        }
      ]
    },
    {
      "cell_type": "code",
      "metadata": {
        "colab": {
          "base_uri": "https://localhost:8080/"
        },
        "id": "1ZU22wuU5qMQ",
        "outputId": "4d1f1d69-7217-4629-9ee4-2cc1c0090228"
      },
      "source": [
        "fpr"
      ],
      "execution_count": 13,
      "outputs": [
        {
          "output_type": "execute_result",
          "data": {
            "text/plain": [
              "array([0.  , 0.  , 0.  , 0.05, 0.05, 0.2 , 0.2 , 0.3 , 0.3 , 0.45, 0.45,\n",
              "       0.55, 0.55, 0.6 , 0.6 , 0.65, 0.65, 0.7 , 0.7 , 1.  ])"
            ]
          },
          "metadata": {
            "tags": []
          },
          "execution_count": 13
        }
      ]
    },
    {
      "cell_type": "code",
      "metadata": {
        "colab": {
          "base_uri": "https://localhost:8080/"
        },
        "id": "lM-ZG4eVlJIx",
        "outputId": "7ba5c139-42bd-4ec8-a3a6-6f75169951a4"
      },
      "source": [
        "tpr"
      ],
      "execution_count": 10,
      "outputs": [
        {
          "output_type": "execute_result",
          "data": {
            "text/plain": [
              "array([0.        , 0.03333333, 0.36666667, 0.36666667, 0.4       ,\n",
              "       0.4       , 0.46666667, 0.46666667, 0.6       , 0.6       ,\n",
              "       0.63333333, 0.63333333, 0.8       , 0.8       , 0.86666667,\n",
              "       0.86666667, 0.93333333, 0.93333333, 1.        , 1.        ])"
            ]
          },
          "metadata": {
            "tags": []
          },
          "execution_count": 10
        }
      ]
    },
    {
      "cell_type": "code",
      "metadata": {
        "colab": {
          "base_uri": "https://localhost:8080/",
          "height": 295
        },
        "id": "G3fWN8Fj44cX",
        "outputId": "15f0a615-cc03-4685-f3a5-56f2568a405f"
      },
      "source": [
        "import matplotlib.pyplot as plt\r\n",
        "from itertools import cycle\r\n",
        "plt.figure()\r\n",
        "lw = 2\r\n",
        "plt.plot(fpr, tpr, color='darkorange',\r\n",
        "         lw=lw, label='ROC curve (area = %0.2f)' % auc(fpr, tpr))\r\n",
        "plt.plot([0, 1], [0, 1], color='navy', lw=lw, linestyle='--')\r\n",
        "plt.xlim([0.0, 1.0])\r\n",
        "plt.ylim([0.0, 1.05])\r\n",
        "plt.xlabel('False Positive Rate')\r\n",
        "plt.ylabel('True Positive Rate')\r\n",
        "plt.title('Receiver operating characteristic example')\r\n",
        "plt.legend(loc=\"lower right\")\r\n",
        "plt.show()"
      ],
      "execution_count": 12,
      "outputs": [
        {
          "output_type": "display_data",
          "data": {
            "image/png": "[encoded data removed]",
            "text/plain": [
              "<Figure size 432x288 with 1 Axes>"
            ]
          },
          "metadata": {
            "tags": [],
            "needs_background": "light"
          }
        }
      ]
    },
    {
      "cell_type": "markdown",
      "metadata": {
        "id": "a7OuQBxk-SWV"
      },
      "source": [
        "**Discussion**\r\n",
        "\r\n",
        "Todo"
      ]
    },
    {
      "cell_type": "markdown",
      "metadata": {
        "id": "HlC3jWxdAYko"
      },
      "source": [
        "**Precision & Recall**\r\n",
        "\r\n",
        "Define:\r\n",
        "\r\n",
        "Được dùng đối với các bài toán mà training set của classes chênh lệnh nhau lớn.\r\n",
        "```\r\n",
        "                 TP\r\n",
        "Precision = --------------\r\n",
        "              TP + FP\r\n",
        "\r\n",
        "                 TP\r\n",
        "Recall    = --------------\r\n",
        "              TP + FN\r\n",
        "\r\n",
        "```\r\n",
        "\r\n"
      ]
    },
    {
      "cell_type": "markdown",
      "metadata": {
        "id": "nED_u9KYTx0E"
      },
      "source": [
        "**Binary classification**"
      ]
    },
    {
      "cell_type": "markdown",
      "metadata": {
        "id": "fGuaJiWgK3qV"
      },
      "source": [
        "**Visualize**"
      ]
    },
    {
      "cell_type": "code",
      "metadata": {
        "colab": {
          "base_uri": "https://localhost:8080/"
        },
        "id": "cm4cCWRKKwd5",
        "outputId": "27710f65-1d94-400a-d0df-a18e099f6064"
      },
      "source": [
        "# generate simulated data\r\n",
        "n0, n1 = 10, 50\r\n",
        "score0 = np.random.rand(n0)/2\r\n",
        "label0 = np.zeros(n0, dtype = int)\r\n",
        "score1  = np.random.rand(n1)/2 + .3\r\n",
        "label1 = np.ones(n1, dtype = int)\r\n",
        "scores = np.concatenate((score0, score1))\r\n",
        "y_true = np.concatenate((label0, label1))\r\n",
        "\r\n",
        "print('True labels:')\r\n",
        "print(y_true)\r\n",
        "print('\\nScores of points in class 0:')\r\n",
        "print(scores[:n0])\r\n",
        "print('\\nScores of points in class 1:')\r\n",
        "print(scores[n0:])"
      ],
      "execution_count": 14,
      "outputs": [
        {
          "output_type": "stream",
          "text": [
            "True labels:\n",
            "[0 0 0 0 0 0 0 0 0 0 1 1 1 1 1 1 1 1 1 1 1 1 1 1 1 1 1 1 1 1 1 1 1 1 1 1 1\n",
            " 1 1 1 1 1 1 1 1 1 1 1 1 1 1 1 1 1 1 1 1 1 1 1]\n",
            "\n",
            "Scores of points in class 0:\n",
            "[0.14988089 0.20466351 0.17411144 0.44452488 0.27587376 0.32583816\n",
            " 0.10831469 0.14118166 0.34488126 0.48261442]\n",
            "\n",
            "Scores of points in class 1:\n",
            "[0.5167598  0.56054793 0.65020075 0.71641917 0.72779364 0.58172161\n",
            " 0.5719462  0.51096973 0.51681152 0.65983004 0.65569911 0.64181318\n",
            " 0.66470342 0.60987103 0.4330387  0.60723802 0.3632127  0.38177456\n",
            " 0.36908715 0.70763308 0.68183483 0.61640847 0.47867491 0.66498809\n",
            " 0.37559543 0.7224147  0.45982521 0.7864925  0.51498286 0.49314569\n",
            " 0.4035684  0.42089244 0.72254149 0.47379523 0.76559637 0.68879107\n",
            " 0.43262619 0.69451704 0.50482817 0.76650636 0.6865987  0.480103\n",
            " 0.38106977 0.36754713 0.73282866 0.47611924 0.66363297 0.79932648\n",
            " 0.58770029 0.64844914]\n"
          ],
          "name": "stdout"
        }
      ]
    },
    {
      "cell_type": "code",
      "metadata": {
        "colab": {
          "base_uri": "https://localhost:8080/"
        },
        "id": "MGuHPFaELD0y",
        "outputId": "c1bc75d0-00c6-44f8-fc9b-938221f4c7f1"
      },
      "source": [
        "from sklearn.metrics import average_precision_score\r\n",
        "\r\n",
        "average_precision = average_precision_score(y_true,scores)\r\n",
        "\r\n",
        "print('Average precision scores: {0:0.2f}'.format(average_precision))"
      ],
      "execution_count": 15,
      "outputs": [
        {
          "output_type": "stream",
          "text": [
            "Average precision scores: 0.99\n"
          ],
          "name": "stdout"
        }
      ]
    },
    {
      "cell_type": "code",
      "metadata": {
        "colab": {
          "base_uri": "https://localhost:8080/",
          "height": 295
        },
        "id": "pUIRfT_JL6dG",
        "outputId": "6b203276-0e01-42ac-efb0-dcad847a7f7a"
      },
      "source": [
        "from sklearn.metrics import precision_recall_curve\r\n",
        "import matplotlib.pyplot as plt\r\n",
        "\r\n",
        "precision, recall, thrs = precision_recall_curve(y_true, scores)\r\n",
        "\r\n",
        "plt.step(recall, precision, color='b', alpha=0.2, where='post')\r\n",
        "plt.fill_between(recall, precision, step='post', alpha=0.2, color='b')\r\n",
        "\r\n",
        "plt.xlabel('Recall')\r\n",
        "plt.ylabel('Precision')\r\n",
        "plt.ylim([0.0, 1.0])\r\n",
        "plt.xlim([0.0, 1.0])\r\n",
        "plt.title('2-class Precision-Recall curve: AUC={0:0.2f}'.format(average_precision))\r\n",
        "plt.show()"
      ],
      "execution_count": 16,
      "outputs": [
        {
          "output_type": "display_data",
          "data": {
            "image/png": "[encoded data removed]",
            "text/plain": [
              "<Figure size 432x288 with 1 Axes>"
            ]
          },
          "metadata": {
            "tags": [],
            "needs_background": "light"
          }
        }
      ]
    },
    {
      "cell_type": "markdown",
      "metadata": {
        "id": "izaCl83DRSbY"
      },
      "source": [
        "**F1 - Score**\r\n",
        "\r\n",
        "```\r\n",
        "        Precision.Recall\r\n",
        "F1 = 2---------------------\r\n",
        "       Precision + Recall\r\n",
        "\r\n",
        "```\r\n",
        "\r\n",
        "General case:\r\n",
        "\r\n",
        "```\r\n",
        "                 Precision.Recall\r\n",
        "F1 = (1 + b^2)----------------------\r\n",
        "              b^2.Precision + Recall    \r\n",
        "\r\n",
        "\r\n",
        "\r\n",
        "when: \r\n",
        "\r\n",
        "*   b > 1: Precision is importance - (thường chọn b = 2)\r\n",
        "*   b < 1: Recall is importance    - (thường chọn b = 5)\r\n",
        "\r\n",
        "```\r\n"
      ]
    },
    {
      "cell_type": "markdown",
      "metadata": {
        "id": "RRcBE7zVT53J"
      },
      "source": [
        "**Precision - recall cho bài toán phân lớp nhiều lớp**"
      ]
    },
    {
      "cell_type": "code",
      "metadata": {
        "colab": {
          "base_uri": "https://localhost:8080/",
          "height": 841
        },
        "id": "FWj1Tc3rMCR9",
        "outputId": "a12983c9-ccdf-43a4-c505-0a81202e57ee"
      },
      "source": [
        ""
      ],
      "execution_count": 17,
      "outputs": [
        {
          "output_type": "error",
          "ename": "ValueError",
          "evalue": "ignored",
          "traceback": [
            "\u001b[0;31m---------------------------------------------------------------------------\u001b[0m",
            "\u001b[0;31mValueError\u001b[0m                                Traceback (most recent call last)",
            "\u001b[0;32m<ipython-input-17-d3549aa042fb>\u001b[0m in \u001b[0;36m<module>\u001b[0;34m()\u001b[0m\n\u001b[1;32m      1\u001b[0m \u001b[0;32mfrom\u001b[0m \u001b[0msklearn\u001b[0m\u001b[0;34m.\u001b[0m\u001b[0mmetrics\u001b[0m \u001b[0;32mimport\u001b[0m \u001b[0mf1_score\u001b[0m\u001b[0;34m\u001b[0m\u001b[0;34m\u001b[0m\u001b[0m\n\u001b[1;32m      2\u001b[0m \u001b[0;34m\u001b[0m\u001b[0m\n\u001b[0;32m----> 3\u001b[0;31m \u001b[0mf1\u001b[0m \u001b[0;34m=\u001b[0m \u001b[0mf1_score\u001b[0m\u001b[0;34m(\u001b[0m\u001b[0my_true\u001b[0m\u001b[0;34m,\u001b[0m \u001b[0mscores\u001b[0m\u001b[0;34m)\u001b[0m\u001b[0;34m\u001b[0m\u001b[0;34m\u001b[0m\u001b[0m\n\u001b[0m\u001b[1;32m      4\u001b[0m \u001b[0mf1\u001b[0m\u001b[0;34m\u001b[0m\u001b[0;34m\u001b[0m\u001b[0m\n",
            "\u001b[0;32m/usr/local/lib/python3.7/dist-packages/sklearn/metrics/_classification.py\u001b[0m in \u001b[0;36mf1_score\u001b[0;34m(y_true, y_pred, labels, pos_label, average, sample_weight, zero_division)\u001b[0m\n\u001b[1;32m   1097\u001b[0m                        \u001b[0mpos_label\u001b[0m\u001b[0;34m=\u001b[0m\u001b[0mpos_label\u001b[0m\u001b[0;34m,\u001b[0m \u001b[0maverage\u001b[0m\u001b[0;34m=\u001b[0m\u001b[0maverage\u001b[0m\u001b[0;34m,\u001b[0m\u001b[0;34m\u001b[0m\u001b[0;34m\u001b[0m\u001b[0m\n\u001b[1;32m   1098\u001b[0m                        \u001b[0msample_weight\u001b[0m\u001b[0;34m=\u001b[0m\u001b[0msample_weight\u001b[0m\u001b[0;34m,\u001b[0m\u001b[0;34m\u001b[0m\u001b[0;34m\u001b[0m\u001b[0m\n\u001b[0;32m-> 1099\u001b[0;31m                        zero_division=zero_division)\n\u001b[0m\u001b[1;32m   1100\u001b[0m \u001b[0;34m\u001b[0m\u001b[0m\n\u001b[1;32m   1101\u001b[0m \u001b[0;34m\u001b[0m\u001b[0m\n",
            "\u001b[0;32m/usr/local/lib/python3.7/dist-packages/sklearn/metrics/_classification.py\u001b[0m in \u001b[0;36mfbeta_score\u001b[0;34m(y_true, y_pred, beta, labels, pos_label, average, sample_weight, zero_division)\u001b[0m\n\u001b[1;32m   1224\u001b[0m                                                  \u001b[0mwarn_for\u001b[0m\u001b[0;34m=\u001b[0m\u001b[0;34m(\u001b[0m\u001b[0;34m'f-score'\u001b[0m\u001b[0;34m,\u001b[0m\u001b[0;34m)\u001b[0m\u001b[0;34m,\u001b[0m\u001b[0;34m\u001b[0m\u001b[0;34m\u001b[0m\u001b[0m\n\u001b[1;32m   1225\u001b[0m                                                  \u001b[0msample_weight\u001b[0m\u001b[0;34m=\u001b[0m\u001b[0msample_weight\u001b[0m\u001b[0;34m,\u001b[0m\u001b[0;34m\u001b[0m\u001b[0;34m\u001b[0m\u001b[0m\n\u001b[0;32m-> 1226\u001b[0;31m                                                  zero_division=zero_division)\n\u001b[0m\u001b[1;32m   1227\u001b[0m     \u001b[0;32mreturn\u001b[0m \u001b[0mf\u001b[0m\u001b[0;34m\u001b[0m\u001b[0;34m\u001b[0m\u001b[0m\n\u001b[1;32m   1228\u001b[0m \u001b[0;34m\u001b[0m\u001b[0m\n",
            "\u001b[0;32m/usr/local/lib/python3.7/dist-packages/sklearn/metrics/_classification.py\u001b[0m in \u001b[0;36mprecision_recall_fscore_support\u001b[0;34m(y_true, y_pred, beta, labels, pos_label, average, warn_for, sample_weight, zero_division)\u001b[0m\n\u001b[1;32m   1482\u001b[0m         \u001b[0;32mraise\u001b[0m \u001b[0mValueError\u001b[0m\u001b[0;34m(\u001b[0m\u001b[0;34m\"beta should be >=0 in the F-beta score\"\u001b[0m\u001b[0;34m)\u001b[0m\u001b[0;34m\u001b[0m\u001b[0;34m\u001b[0m\u001b[0m\n\u001b[1;32m   1483\u001b[0m     labels = _check_set_wise_labels(y_true, y_pred, average, labels,\n\u001b[0;32m-> 1484\u001b[0;31m                                     pos_label)\n\u001b[0m\u001b[1;32m   1485\u001b[0m \u001b[0;34m\u001b[0m\u001b[0m\n\u001b[1;32m   1486\u001b[0m     \u001b[0;31m# Calculate tp_sum, pred_sum, true_sum ###\u001b[0m\u001b[0;34m\u001b[0m\u001b[0;34m\u001b[0m\u001b[0;34m\u001b[0m\u001b[0m\n",
            "\u001b[0;32m/usr/local/lib/python3.7/dist-packages/sklearn/metrics/_classification.py\u001b[0m in \u001b[0;36m_check_set_wise_labels\u001b[0;34m(y_true, y_pred, average, labels, pos_label)\u001b[0m\n\u001b[1;32m   1299\u001b[0m                          str(average_options))\n\u001b[1;32m   1300\u001b[0m \u001b[0;34m\u001b[0m\u001b[0m\n\u001b[0;32m-> 1301\u001b[0;31m     \u001b[0my_type\u001b[0m\u001b[0;34m,\u001b[0m \u001b[0my_true\u001b[0m\u001b[0;34m,\u001b[0m \u001b[0my_pred\u001b[0m \u001b[0;34m=\u001b[0m \u001b[0m_check_targets\u001b[0m\u001b[0;34m(\u001b[0m\u001b[0my_true\u001b[0m\u001b[0;34m,\u001b[0m \u001b[0my_pred\u001b[0m\u001b[0;34m)\u001b[0m\u001b[0;34m\u001b[0m\u001b[0;34m\u001b[0m\u001b[0m\n\u001b[0m\u001b[1;32m   1302\u001b[0m     \u001b[0mpresent_labels\u001b[0m \u001b[0;34m=\u001b[0m \u001b[0munique_labels\u001b[0m\u001b[0;34m(\u001b[0m\u001b[0my_true\u001b[0m\u001b[0;34m,\u001b[0m \u001b[0my_pred\u001b[0m\u001b[0;34m)\u001b[0m\u001b[0;34m\u001b[0m\u001b[0;34m\u001b[0m\u001b[0m\n\u001b[1;32m   1303\u001b[0m     \u001b[0;32mif\u001b[0m \u001b[0maverage\u001b[0m \u001b[0;34m==\u001b[0m \u001b[0;34m'binary'\u001b[0m\u001b[0;34m:\u001b[0m\u001b[0;34m\u001b[0m\u001b[0;34m\u001b[0m\u001b[0m\n",
            "\u001b[0;32m/usr/local/lib/python3.7/dist-packages/sklearn/metrics/_classification.py\u001b[0m in \u001b[0;36m_check_targets\u001b[0;34m(y_true, y_pred)\u001b[0m\n\u001b[1;32m     88\u001b[0m     \u001b[0;32mif\u001b[0m \u001b[0mlen\u001b[0m\u001b[0;34m(\u001b[0m\u001b[0my_type\u001b[0m\u001b[0;34m)\u001b[0m \u001b[0;34m>\u001b[0m \u001b[0;36m1\u001b[0m\u001b[0;34m:\u001b[0m\u001b[0;34m\u001b[0m\u001b[0;34m\u001b[0m\u001b[0m\n\u001b[1;32m     89\u001b[0m         raise ValueError(\"Classification metrics can't handle a mix of {0} \"\n\u001b[0;32m---> 90\u001b[0;31m                          \"and {1} targets\".format(type_true, type_pred))\n\u001b[0m\u001b[1;32m     91\u001b[0m \u001b[0;34m\u001b[0m\u001b[0m\n\u001b[1;32m     92\u001b[0m     \u001b[0;31m# We can't have more than one value on y_type => The set is no more needed\u001b[0m\u001b[0;34m\u001b[0m\u001b[0;34m\u001b[0m\u001b[0;34m\u001b[0m\u001b[0m\n",
            "\u001b[0;31mValueError\u001b[0m: Classification metrics can't handle a mix of binary and continuous targets"
          ]
        }
      ]
    },
    {
      "cell_type": "code",
      "metadata": {
        "id": "tFtjqWm5ZBiV"
      },
      "source": [
        ""
      ],
      "execution_count": null,
      "outputs": []
    }
  ]
}